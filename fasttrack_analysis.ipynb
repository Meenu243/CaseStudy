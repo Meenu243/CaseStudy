{
 "cells": [
  {
   "cell_type": "code",
   "execution_count": 231,
   "id": "0d744e83",
   "metadata": {},
   "outputs": [
    {
     "data": {
      "text/plain": [
       "'C:\\\\Users\\\\Meenu\\\\Documents\\\\SellAnyCar'"
      ]
     },
     "execution_count": 231,
     "metadata": {},
     "output_type": "execute_result"
    }
   ],
   "source": [
    "import pandas as pd\n",
    "import numpy as np\n",
    "import os\n",
    "os.getcwd()"
   ]
  },
  {
   "cell_type": "code",
   "execution_count": 232,
   "id": "3b845d4f",
   "metadata": {},
   "outputs": [],
   "source": [
    "os.chdir('C:\\\\Users\\\\Meenu\\\\Documents\\\\SellAnyCar')"
   ]
  },
  {
   "cell_type": "code",
   "execution_count": 233,
   "id": "5c2bab42",
   "metadata": {},
   "outputs": [],
   "source": [
    "df = pd.read_excel('Data.xlsx',sheet_name='RawData')"
   ]
  },
  {
   "cell_type": "code",
   "execution_count": 234,
   "id": "b894e7a1",
   "metadata": {
    "scrolled": true
   },
   "outputs": [
    {
     "data": {
      "text/plain": [
       "Customer Number                0\n",
       "Customer Country               0\n",
       "Year                           0\n",
       "Month                          0\n",
       "Shipment Destination Region    0\n",
       "Revenue (EUR)                  0\n",
       "dtype: int64"
      ]
     },
     "execution_count": 234,
     "metadata": {},
     "output_type": "execute_result"
    }
   ],
   "source": [
    "df.isnull().sum()"
   ]
  },
  {
   "cell_type": "code",
   "execution_count": 235,
   "id": "4c5dba80",
   "metadata": {},
   "outputs": [],
   "source": [
    "\n",
    "df['Month'] = df['Month'].astype(str)\n",
    "df['month'] = df['Month'].str[-2:].astype(int)\n",
    "df.loc[(df['month']>=1) & (df['month']<=3),'quarter'] = 'Q1'\n",
    "df.loc[(df['month']>=4) & (df['month']<=6),'quarter'] = 'Q2'\n",
    "df.loc[(df['month']>=7) & (df['month']<=9),'quarter'] = 'Q3'\n",
    "df.loc[(df['month']>=10) & (df['month']<=12),'quarter'] = 'Q4'"
   ]
  },
  {
   "cell_type": "code",
   "execution_count": 236,
   "id": "7f908586",
   "metadata": {},
   "outputs": [],
   "source": [
    "quarterly_segmented = df.groupby(['Customer Number','Customer Country','Year','quarter','month'])['Revenue (EUR)'].sum().reset_index()"
   ]
  },
  {
   "cell_type": "code",
   "execution_count": 237,
   "id": "23ff72e7",
   "metadata": {},
   "outputs": [],
   "source": [
    "jf = quarterly_segmented\n",
    "jf = jf.groupby('Customer Number')['Revenue (EUR)'].pct_change()*100\n",
    "jf = jf.reset_index().drop(columns=['index']).rename(columns={'Revenue (EUR)':'pct_chng'})"
   ]
  },
  {
   "cell_type": "code",
   "execution_count": 238,
   "id": "ddc81277",
   "metadata": {
    "scrolled": true
   },
   "outputs": [],
   "source": [
    "quarterly_segmented = quarterly_segmented.join(jf)\n",
    "quarterly_segmented.fillna(0,inplace=True)"
   ]
  },
  {
   "cell_type": "code",
   "execution_count": 239,
   "id": "51f478c6",
   "metadata": {},
   "outputs": [
    {
     "name": "stderr",
     "output_type": "stream",
     "text": [
      "<ipython-input-239-b328e8086430>:3: SettingWithCopyWarning: \n",
      "A value is trying to be set on a copy of a slice from a DataFrame.\n",
      "Try using .loc[row_indexer,col_indexer] = value instead\n",
      "\n",
      "See the caveats in the documentation: https://pandas.pydata.org/pandas-docs/stable/user_guide/indexing.html#returning-a-view-versus-a-copy\n",
      "  buy_q3_2018['last Q'] = 'Y'\n"
     ]
    }
   ],
   "source": [
    "buy_2018 = quarterly_segmented.loc[(quarterly_segmented['Year']== 2018)] \n",
    "buy_q3_2018 = buy_2018[buy_2018['quarter']=='Q3'] \n",
    "buy_q3_2018['last Q'] = 'Y'"
   ]
  },
  {
   "cell_type": "code",
   "execution_count": null,
   "id": "c88abfeb",
   "metadata": {},
   "outputs": [],
   "source": []
  },
  {
   "cell_type": "code",
   "execution_count": 240,
   "id": "e5059078",
   "metadata": {},
   "outputs": [],
   "source": [
    "ff = pd.merge(df[['Customer Number']],buy_q3_2018,on=['Customer Number'],how='left').drop_duplicates()\n",
    "ff[ff['last Q']=='Y'].nunique()\n",
    "ff['last Q'] = ff['last Q'].fillna('N')"
   ]
  },
  {
   "cell_type": "code",
   "execution_count": 241,
   "id": "55cc2d17",
   "metadata": {},
   "outputs": [],
   "source": [
    "ff = ff.drop_duplicates(subset='Customer Number')"
   ]
  },
  {
   "cell_type": "code",
   "execution_count": 242,
   "id": "5bf48bd1",
   "metadata": {},
   "outputs": [],
   "source": [
    "df.loc[df['Customer Number'].isin(buy_q3_2018['Customer Number']),'Bought on last Q'] = \"Y\" \n",
    "df.loc[(df['Bought on last Q']!='Y'),'Bought on last Q'] = 'N'"
   ]
  },
  {
   "cell_type": "code",
   "execution_count": 243,
   "id": "f2c3c789",
   "metadata": {},
   "outputs": [],
   "source": [
    "bought_on_q3_2018 = pd.DataFrame(buy_q3_2018['Customer Number'].unique())"
   ]
  },
  {
   "cell_type": "code",
   "execution_count": 244,
   "id": "2dad45be",
   "metadata": {},
   "outputs": [],
   "source": [
    "gg =  df.groupby(['Customer Number','Customer Country','Year','quarter'])['Revenue (EUR)'].sum().reset_index()\n",
    "ff = gg[~((gg['Year'] == 2018) & (gg['quarter']=='Q3'))]"
   ]
  },
  {
   "cell_type": "code",
   "execution_count": 245,
   "id": "ea0c9e78",
   "metadata": {},
   "outputs": [],
   "source": [
    "grouped = df[df['Bought on last Q']=='Y'].groupby(['Customer Number','Customer Country','Year','quarter'])['Revenue (EUR)'].sum().reset_index()"
   ]
  },
  {
   "cell_type": "code",
   "execution_count": 246,
   "id": "958faad8",
   "metadata": {},
   "outputs": [],
   "source": [
    "num_orders = grouped['Customer Number'].value_counts().reset_index().rename(columns={'index':'Customer Number','Customer Number':'quarter count'})"
   ]
  },
  {
   "cell_type": "code",
   "execution_count": 247,
   "id": "33fd56f2",
   "metadata": {},
   "outputs": [],
   "source": [
    "grouped = pd.merge(grouped,num_orders,on='Customer Number')"
   ]
  },
  {
   "cell_type": "code",
   "execution_count": 248,
   "id": "2542705e",
   "metadata": {},
   "outputs": [],
   "source": [
    "grouped.loc[grouped['quarter count']==1,'Only Last Q'] = 'Y'\n"
   ]
  },
  {
   "cell_type": "code",
   "execution_count": 249,
   "id": "8ec42dec",
   "metadata": {},
   "outputs": [],
   "source": [
    "only_last_q = grouped.loc[(grouped['quarter count']==1) & (grouped['Year']==2018) & (grouped['quarter']=='Q3')]"
   ]
  },
  {
   "cell_type": "code",
   "execution_count": 250,
   "id": "f515f6ab",
   "metadata": {},
   "outputs": [],
   "source": [
    "df.loc[(df['Customer Number'].isin(only_last_q['Customer Number'])),'Only Last Q'] = 'Y'"
   ]
  },
  {
   "cell_type": "code",
   "execution_count": 251,
   "id": "e7b3f915",
   "metadata": {},
   "outputs": [],
   "source": [
    "df['Only Last Q'] = df['Only Last Q'].fillna('N')"
   ]
  },
  {
   "cell_type": "code",
   "execution_count": 252,
   "id": "8d823c7b",
   "metadata": {},
   "outputs": [],
   "source": [
    "q3_q2_2018 = df.loc[(df['Year']==2018)  & ((df['quarter']=='Q3')|(df['quarter']=='Q2'))]\n",
    "q3_2018 = df.loc[(df['Year']==2018)  & ((df['quarter']=='Q3'))]\n",
    "\n",
    "not_q3_2018 = df.loc[~((df['Year']==2018)  & ((df['quarter']=='Q3')))]\n",
    "not_q3_2018 = not_q3_2018.groupby('Customer Number')['Revenue (EUR)'].sum().reset_index().rename(columns={'Revenue (EUR)':'Last 6 Q Revenue'})\n",
    "q3_2018 = q3_2018.groupby('Customer Number')['Revenue (EUR)'].sum().reset_index().rename(columns={'Revenue (EUR)':'Last Q Revenue'})"
   ]
  },
  {
   "cell_type": "code",
   "execution_count": 253,
   "id": "1d20bac0",
   "metadata": {},
   "outputs": [],
   "source": [
    "rest_of_grouped =  df.loc[~((df['Year']==2018)  & ((df['quarter']=='Q3')|(df['quarter']=='Q2')))]"
   ]
  },
  {
   "cell_type": "code",
   "execution_count": 254,
   "id": "a25fe8a3",
   "metadata": {},
   "outputs": [],
   "source": [
    "last_2q_revenue = q3_q2_2018.groupby('Customer Number')['Revenue (EUR)'].sum().reset_index().rename(columns={'Revenue (EUR)':'Last 2 Q Revenue'})"
   ]
  },
  {
   "cell_type": "code",
   "execution_count": 255,
   "id": "7347079e",
   "metadata": {},
   "outputs": [],
   "source": [
    "first_q_revenues = rest_of_grouped.groupby('Customer Number')['Revenue (EUR)'].sum().reset_index().rename(columns={'Revenue (EUR)':'First 5 Q Revenue'})"
   ]
  },
  {
   "cell_type": "code",
   "execution_count": 256,
   "id": "7ddc5471",
   "metadata": {},
   "outputs": [],
   "source": [
    "agg_quarterly_revenue = pd.merge(first_q_revenues,last_2q_revenue,how='outer').fillna(0)\n",
    "agg_quarterly_revenue = pd.merge(agg_quarterly_revenue,not_q3_2018,how='outer').fillna(0)\n",
    "agg_quarterly_revenue = pd.merge(agg_quarterly_revenue,q3_2018,how='outer').fillna(0)"
   ]
  },
  {
   "cell_type": "code",
   "execution_count": 257,
   "id": "cf68d27f",
   "metadata": {},
   "outputs": [],
   "source": [
    "agg_quarterly_revenue['avg_qtrly_rev_5'] = agg_quarterly_revenue['First 5 Q Revenue']/5\n",
    "agg_quarterly_revenue['avg_qtrly_rev_2'] = agg_quarterly_revenue['Last 2 Q Revenue']/2"
   ]
  },
  {
   "cell_type": "code",
   "execution_count": 258,
   "id": "094cb2f9",
   "metadata": {},
   "outputs": [],
   "source": [
    "agg_quarterly_revenue['pct_chng'] = round((agg_quarterly_revenue['avg_qtrly_rev_2'] - agg_quarterly_revenue['avg_qtrly_rev_5'])/agg_quarterly_revenue['avg_qtrly_rev_2'],4)*100"
   ]
  },
  {
   "cell_type": "code",
   "execution_count": 259,
   "id": "4cd4df45",
   "metadata": {},
   "outputs": [],
   "source": [
    "agg_quarterly_revenue['pct_chng'] = agg_quarterly_revenue['pct_chng'].replace(-np.inf, np.nan)"
   ]
  },
  {
   "cell_type": "code",
   "execution_count": 260,
   "id": "479349f2",
   "metadata": {},
   "outputs": [
    {
     "data": {
      "text/plain": [
       "-233.2913903743317"
      ]
     },
     "execution_count": 260,
     "metadata": {},
     "output_type": "execute_result"
    }
   ],
   "source": [
    "agg_quarterly_revenue['pct_chng'].mean()"
   ]
  },
  {
   "cell_type": "code",
   "execution_count": 261,
   "id": "76b19c6a",
   "metadata": {},
   "outputs": [
    {
     "data": {
      "text/plain": [
       "647"
      ]
     },
     "execution_count": 261,
     "metadata": {},
     "output_type": "execute_result"
    }
   ],
   "source": [
    "agg_quarterly_revenue['Customer Number'].nunique()"
   ]
  },
  {
   "cell_type": "code",
   "execution_count": 262,
   "id": "71f986ed",
   "metadata": {},
   "outputs": [],
   "source": [
    "agg_quarterly_revenue.loc[(agg_quarterly_revenue['pct_chng'] < \\\n",
    "                           agg_quarterly_revenue['pct_chng'].median()),'Segment'] = 'Down-Trader'"
   ]
  },
  {
   "cell_type": "code",
   "execution_count": 263,
   "id": "f8d5ca9c",
   "metadata": {},
   "outputs": [],
   "source": [
    "agg =  agg_quarterly_revenue.copy()\n",
    "\n",
    "agg.loc[(agg['Last 6 Q Revenue']!=0.00) & (agg['Last Q Revenue']==0.00),'Segment'] = 'Lost Customer'\n",
    "agg.loc[(agg['pct_chng'] < agg['pct_chng'].median()),'Segment'] = 'Down-Trader'\n",
    "agg.loc[(agg['pct_chng'] > 0.00),'Segment'] = 'Growth Customers'\n",
    "agg.loc[(agg['Segment'].isnull()) & (agg['pct_chng'] >= -20),'Segment'] = \"'On the verge' Customers\"\n",
    "agg.loc[(agg['Segment'].isnull()) & (agg['pct_chng'] <= -20),'Segment'] = \"Down-Trader\"\n",
    "agg.loc[(agg['First 5 Q Revenue']==0.00) & (agg['Last 2 Q Revenue']!=0.00),'Segment'] = 'Newly Acquired'"
   ]
  },
  {
   "cell_type": "code",
   "execution_count": 264,
   "id": "adb08706",
   "metadata": {},
   "outputs": [],
   "source": [
    "#agg.head()"
   ]
  },
  {
   "cell_type": "code",
   "execution_count": 265,
   "id": "853a1e20",
   "metadata": {},
   "outputs": [
    {
     "name": "stdout",
     "output_type": "stream",
     "text": [
      "      Customer Number Customer Country\n",
      "0          ABC0000464               PT\n",
      "1          ABC0000464               PT\n",
      "2          ABC0000464               PT\n",
      "3          ABC0000464               PT\n",
      "4          ABC0000464               PT\n",
      "...               ...              ...\n",
      "23538      ABM0018947               DE\n",
      "23539      ABM0018947               DE\n",
      "23540      ABM0018947               DE\n",
      "23541      ABM0018947               DE\n",
      "23542      ABM0018947               DE\n",
      "\n",
      "[23543 rows x 2 columns]\n"
     ]
    }
   ],
   "source": [
    "df1 = df[['Customer Number','Customer Country']]\n",
    "print(df1)\n",
    "\n"
   ]
  },
  {
   "cell_type": "code",
   "execution_count": 266,
   "id": "bd988d24",
   "metadata": {},
   "outputs": [],
   "source": [
    "agg1 = pd.merge(df1,agg,on=['Customer Number'],how='left').drop_duplicates()"
   ]
  },
  {
   "cell_type": "code",
   "execution_count": 267,
   "id": "648a6475",
   "metadata": {},
   "outputs": [
    {
     "data": {
      "text/html": [
       "<div>\n",
       "<style scoped>\n",
       "    .dataframe tbody tr th:only-of-type {\n",
       "        vertical-align: middle;\n",
       "    }\n",
       "\n",
       "    .dataframe tbody tr th {\n",
       "        vertical-align: top;\n",
       "    }\n",
       "\n",
       "    .dataframe thead th {\n",
       "        text-align: right;\n",
       "    }\n",
       "</style>\n",
       "<table border=\"1\" class=\"dataframe\">\n",
       "  <thead>\n",
       "    <tr style=\"text-align: right;\">\n",
       "      <th></th>\n",
       "      <th>Customer Number</th>\n",
       "      <th>Customer Country</th>\n",
       "      <th>First 5 Q Revenue</th>\n",
       "      <th>Last 2 Q Revenue</th>\n",
       "      <th>Last 6 Q Revenue</th>\n",
       "      <th>Last Q Revenue</th>\n",
       "      <th>avg_qtrly_rev_5</th>\n",
       "      <th>avg_qtrly_rev_2</th>\n",
       "      <th>pct_chng</th>\n",
       "      <th>Segment</th>\n",
       "    </tr>\n",
       "  </thead>\n",
       "  <tbody>\n",
       "    <tr>\n",
       "      <th>0</th>\n",
       "      <td>ABC0000464</td>\n",
       "      <td>PT</td>\n",
       "      <td>5477.80</td>\n",
       "      <td>812.72</td>\n",
       "      <td>6131.32</td>\n",
       "      <td>159.20</td>\n",
       "      <td>1095.560</td>\n",
       "      <td>406.360</td>\n",
       "      <td>-169.60</td>\n",
       "      <td>Down-Trader</td>\n",
       "    </tr>\n",
       "    <tr>\n",
       "      <th>62</th>\n",
       "      <td>ABC0009734</td>\n",
       "      <td>PT</td>\n",
       "      <td>5634.44</td>\n",
       "      <td>1058.10</td>\n",
       "      <td>6406.01</td>\n",
       "      <td>286.53</td>\n",
       "      <td>1126.888</td>\n",
       "      <td>529.050</td>\n",
       "      <td>-113.00</td>\n",
       "      <td>Down-Trader</td>\n",
       "    </tr>\n",
       "    <tr>\n",
       "      <th>85</th>\n",
       "      <td>ABC0012173</td>\n",
       "      <td>PT</td>\n",
       "      <td>4522.23</td>\n",
       "      <td>1123.22</td>\n",
       "      <td>5345.61</td>\n",
       "      <td>299.84</td>\n",
       "      <td>904.446</td>\n",
       "      <td>561.610</td>\n",
       "      <td>-61.05</td>\n",
       "      <td>Down-Trader</td>\n",
       "    </tr>\n",
       "    <tr>\n",
       "      <th>101</th>\n",
       "      <td>ABC0026905</td>\n",
       "      <td>PT</td>\n",
       "      <td>6993.66</td>\n",
       "      <td>2196.53</td>\n",
       "      <td>8095.81</td>\n",
       "      <td>1094.38</td>\n",
       "      <td>1398.732</td>\n",
       "      <td>1098.265</td>\n",
       "      <td>-27.36</td>\n",
       "      <td>Down-Trader</td>\n",
       "    </tr>\n",
       "    <tr>\n",
       "      <th>136</th>\n",
       "      <td>ABC0027135</td>\n",
       "      <td>PT</td>\n",
       "      <td>5161.58</td>\n",
       "      <td>1499.32</td>\n",
       "      <td>6196.27</td>\n",
       "      <td>464.63</td>\n",
       "      <td>1032.316</td>\n",
       "      <td>749.660</td>\n",
       "      <td>-37.70</td>\n",
       "      <td>Down-Trader</td>\n",
       "    </tr>\n",
       "    <tr>\n",
       "      <th>...</th>\n",
       "      <td>...</td>\n",
       "      <td>...</td>\n",
       "      <td>...</td>\n",
       "      <td>...</td>\n",
       "      <td>...</td>\n",
       "      <td>...</td>\n",
       "      <td>...</td>\n",
       "      <td>...</td>\n",
       "      <td>...</td>\n",
       "      <td>...</td>\n",
       "    </tr>\n",
       "    <tr>\n",
       "      <th>3258</th>\n",
       "      <td>ABC1674305</td>\n",
       "      <td>FR</td>\n",
       "      <td>5142.85</td>\n",
       "      <td>804.38</td>\n",
       "      <td>5947.23</td>\n",
       "      <td>0.00</td>\n",
       "      <td>1028.570</td>\n",
       "      <td>402.190</td>\n",
       "      <td>-155.74</td>\n",
       "      <td>Down-Trader</td>\n",
       "    </tr>\n",
       "    <tr>\n",
       "      <th>3274</th>\n",
       "      <td>ABC1684110</td>\n",
       "      <td>FR</td>\n",
       "      <td>3018.05</td>\n",
       "      <td>0.00</td>\n",
       "      <td>3018.05</td>\n",
       "      <td>0.00</td>\n",
       "      <td>603.610</td>\n",
       "      <td>0.000</td>\n",
       "      <td>NaN</td>\n",
       "      <td>Lost Customer</td>\n",
       "    </tr>\n",
       "    <tr>\n",
       "      <th>3286</th>\n",
       "      <td>ABC1709153</td>\n",
       "      <td>FR</td>\n",
       "      <td>14752.66</td>\n",
       "      <td>667.26</td>\n",
       "      <td>15419.92</td>\n",
       "      <td>0.00</td>\n",
       "      <td>2950.532</td>\n",
       "      <td>333.630</td>\n",
       "      <td>-784.37</td>\n",
       "      <td>Down-Trader</td>\n",
       "    </tr>\n",
       "    <tr>\n",
       "      <th>3302</th>\n",
       "      <td>ABC1709320</td>\n",
       "      <td>FR</td>\n",
       "      <td>8841.74</td>\n",
       "      <td>1593.86</td>\n",
       "      <td>10435.60</td>\n",
       "      <td>0.00</td>\n",
       "      <td>1768.348</td>\n",
       "      <td>796.930</td>\n",
       "      <td>-121.90</td>\n",
       "      <td>Down-Trader</td>\n",
       "    </tr>\n",
       "    <tr>\n",
       "      <th>3353</th>\n",
       "      <td>ABC1729453</td>\n",
       "      <td>FR</td>\n",
       "      <td>2920.41</td>\n",
       "      <td>99.87</td>\n",
       "      <td>3020.28</td>\n",
       "      <td>0.00</td>\n",
       "      <td>584.082</td>\n",
       "      <td>49.935</td>\n",
       "      <td>-1069.68</td>\n",
       "      <td>Down-Trader</td>\n",
       "    </tr>\n",
       "  </tbody>\n",
       "</table>\n",
       "<p>100 rows × 10 columns</p>\n",
       "</div>"
      ],
      "text/plain": [
       "     Customer Number Customer Country  First 5 Q Revenue  Last 2 Q Revenue  \\\n",
       "0         ABC0000464               PT            5477.80            812.72   \n",
       "62        ABC0009734               PT            5634.44           1058.10   \n",
       "85        ABC0012173               PT            4522.23           1123.22   \n",
       "101       ABC0026905               PT            6993.66           2196.53   \n",
       "136       ABC0027135               PT            5161.58           1499.32   \n",
       "...              ...              ...                ...               ...   \n",
       "3258      ABC1674305               FR            5142.85            804.38   \n",
       "3274      ABC1684110               FR            3018.05              0.00   \n",
       "3286      ABC1709153               FR           14752.66            667.26   \n",
       "3302      ABC1709320               FR            8841.74           1593.86   \n",
       "3353      ABC1729453               FR            2920.41             99.87   \n",
       "\n",
       "      Last 6 Q Revenue  Last Q Revenue  avg_qtrly_rev_5  avg_qtrly_rev_2  \\\n",
       "0              6131.32          159.20         1095.560          406.360   \n",
       "62             6406.01          286.53         1126.888          529.050   \n",
       "85             5345.61          299.84          904.446          561.610   \n",
       "101            8095.81         1094.38         1398.732         1098.265   \n",
       "136            6196.27          464.63         1032.316          749.660   \n",
       "...                ...             ...              ...              ...   \n",
       "3258           5947.23            0.00         1028.570          402.190   \n",
       "3274           3018.05            0.00          603.610            0.000   \n",
       "3286          15419.92            0.00         2950.532          333.630   \n",
       "3302          10435.60            0.00         1768.348          796.930   \n",
       "3353           3020.28            0.00          584.082           49.935   \n",
       "\n",
       "      pct_chng        Segment  \n",
       "0      -169.60    Down-Trader  \n",
       "62     -113.00    Down-Trader  \n",
       "85      -61.05    Down-Trader  \n",
       "101     -27.36    Down-Trader  \n",
       "136     -37.70    Down-Trader  \n",
       "...        ...            ...  \n",
       "3258   -155.74    Down-Trader  \n",
       "3274       NaN  Lost Customer  \n",
       "3286   -784.37    Down-Trader  \n",
       "3302   -121.90    Down-Trader  \n",
       "3353  -1069.68    Down-Trader  \n",
       "\n",
       "[100 rows x 10 columns]"
      ]
     },
     "execution_count": 267,
     "metadata": {},
     "output_type": "execute_result"
    }
   ],
   "source": [
    "agg1.head()"
   ]
  },
  {
   "cell_type": "code",
   "execution_count": 268,
   "id": "3056eab0",
   "metadata": {},
   "outputs": [
    {
     "data": {
      "text/plain": [
       "413"
      ]
     },
     "execution_count": 268,
     "metadata": {},
     "output_type": "execute_result"
    }
   ],
   "source": [
    "downDF = agg1.loc[agg1['Segment']==\"Down-Trader\"]\n",
    "downDF[\"Customer Number\"].count()"
   ]
  },
  {
   "cell_type": "code",
   "execution_count": 269,
   "id": "3636632c",
   "metadata": {},
   "outputs": [
    {
     "data": {
      "text/plain": [
       "93"
      ]
     },
     "execution_count": 269,
     "metadata": {},
     "output_type": "execute_result"
    }
   ],
   "source": [
    "lostDF = agg1.loc[agg1['Segment']==\"Lost Customer\"]\n",
    "lostDF[\"Customer Number\"].count()"
   ]
  },
  {
   "cell_type": "code",
   "execution_count": 270,
   "id": "45f761e0",
   "metadata": {},
   "outputs": [
    {
     "data": {
      "text/plain": [
       "41"
      ]
     },
     "execution_count": 270,
     "metadata": {},
     "output_type": "execute_result"
    }
   ],
   "source": [
    "vergeDF = agg1.loc[agg1['Segment']==\"'On the verge' Customers\"]\n",
    "vergeDF[\"Customer Number\"].count()"
   ]
  },
  {
   "cell_type": "code",
   "execution_count": 271,
   "id": "ac773dc7",
   "metadata": {},
   "outputs": [
    {
     "data": {
      "text/plain": [
       "71"
      ]
     },
     "execution_count": 271,
     "metadata": {},
     "output_type": "execute_result"
    }
   ],
   "source": [
    "growthDF = agg1.loc[agg1['Segment']=='Growth Customers']\n",
    "growthDF[\"Customer Number\"].count()"
   ]
  },
  {
   "cell_type": "code",
   "execution_count": 273,
   "id": "93b0c6f6",
   "metadata": {},
   "outputs": [
    {
     "data": {
      "text/plain": [
       "29"
      ]
     },
     "execution_count": 273,
     "metadata": {},
     "output_type": "execute_result"
    }
   ],
   "source": [
    "newDF = agg1.loc[agg1['Segment']=='Newly Acquired']\n",
    "newDF[\"Customer Number\"].count()"
   ]
  },
  {
   "cell_type": "code",
   "execution_count": null,
   "id": "304a984c",
   "metadata": {},
   "outputs": [],
   "source": []
  },
  {
   "cell_type": "code",
   "execution_count": null,
   "id": "9814080b",
   "metadata": {},
   "outputs": [],
   "source": []
  },
  {
   "cell_type": "code",
   "execution_count": null,
   "id": "f9563a5a",
   "metadata": {},
   "outputs": [],
   "source": []
  },
  {
   "cell_type": "code",
   "execution_count": null,
   "id": "d98b9d69",
   "metadata": {},
   "outputs": [],
   "source": []
  },
  {
   "cell_type": "code",
   "execution_count": null,
   "id": "cecff13f",
   "metadata": {},
   "outputs": [],
   "source": []
  },
  {
   "cell_type": "code",
   "execution_count": null,
   "id": "65f0f4db",
   "metadata": {},
   "outputs": [],
   "source": []
  }
 ],
 "metadata": {
  "kernelspec": {
   "display_name": "Python 3",
   "language": "python",
   "name": "python3"
  },
  "language_info": {
   "codemirror_mode": {
    "name": "ipython",
    "version": 3
   },
   "file_extension": ".py",
   "mimetype": "text/x-python",
   "name": "python",
   "nbconvert_exporter": "python",
   "pygments_lexer": "ipython3",
   "version": "3.8.8"
  }
 },
 "nbformat": 4,
 "nbformat_minor": 5
}
